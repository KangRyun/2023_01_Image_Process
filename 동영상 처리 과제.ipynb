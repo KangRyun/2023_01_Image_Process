{
 "cells": [
  {
   "cell_type": "code",
   "execution_count": 1,
   "metadata": {},
   "outputs": [],
   "source": [
    "### packages\n",
    "import cv2\n",
    "import numpy as np\n",
    "import os\n",
    "import easygui\n",
    "import os"
   ]
  },
  {
   "cell_type": "code",
   "execution_count": 7,
   "metadata": {},
   "outputs": [
    {
     "name": "stdout",
     "output_type": "stream",
     "text": [
      "Can't receive frame. Exiting...\n"
     ]
    }
   ],
   "source": [
    "### 파일 연결\n",
    "cap = cv2.VideoCapture(r\"C:\\Users\\kr937\\Desktop\\drive\\2023\\Image Process\\jiajihun.MOV\")\n",
    "\n",
    "### 코덱\n",
    "fourcc = cv2.VideoWriter_fourcc(*'FMP4')\n",
    "\n",
    "### frame width, height, fps(초당 frame 수)\n",
    "width = cap.get(cv2.CAP_PROP_FRAME_WIDTH) # cap.get(3)\n",
    "height = cap.get(cv2.CAP_PROP_FRAME_HEIGHT) # cap.get(4)\n",
    "fps = cap.get(cv2.CAP_PROP_FPS) # cap.get(5)\n",
    "\n",
    "### 영상 저장 설정\n",
    "out = cv2.VideoWriter(r\"C:\\Users\\kr937\\Desktop\\drive\\2023\\Image Process\\jiajihun(2).mp4\",\n",
    "                      fourcc, fps, (int(width/2), int(height/2)))\n",
    "\n",
    "### 동영상 출력\n",
    "while cv2.waitKey(1) < 0:\n",
    "    ### Capture frame-by-frame\n",
    "    ret, frame = cap.read()\n",
    "    if ret:\n",
    "        \n",
    "        ### 크기 조절 - 50% 축소\n",
    "        frame = cv2.resize(frame, dsize=(0,0), fx=0.5, fy=0.5,\n",
    "                           interpolation=cv2.INTER_AREA)\n",
    "        \n",
    "        ### Grayscale\n",
    "        frame = cv2.cvtColor(frame, cv2.COLOR_BGR2GRAY)\n",
    "        frame = cv2.cvtColor(frame, cv2.COLOR_GRAY2BGR)  \n",
    "        \n",
    "        ### 감마보정\n",
    "        frame = fn_gamma_correction(frame, 0.67)\n",
    "        \n",
    "        ### Frame 출력\n",
    "        cv2.imshow(\"VideoFrame\", frame)\n",
    "        \n",
    "        ### Frame 저장\n",
    "        out.write(frame)\n",
    "        \n",
    "    else:\n",
    "        print(\"Can't receive frame. Exiting...\") \n",
    "        break\n",
    "    \n",
    "### release the out\n",
    "out.release()\n",
    "\n",
    "### When everything done, release the capture\n",
    "cap.release()\n",
    "cv2.destroyAllWindows()"
   ]
  },
  {
   "cell_type": "code",
   "execution_count": null,
   "metadata": {},
   "outputs": [],
   "source": []
  }
 ],
 "metadata": {
  "kernelspec": {
   "display_name": "Python 3",
   "language": "python",
   "name": "python3"
  },
  "language_info": {
   "name": "python",
   "version": "3.10.7"
  },
  "orig_nbformat": 4
 },
 "nbformat": 4,
 "nbformat_minor": 2
}
