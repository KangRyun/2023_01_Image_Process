{
 "cells": [
  {
   "cell_type": "code",
   "execution_count": 4,
   "metadata": {},
   "outputs": [],
   "source": [
    "## ▣ 필터 프로그램 만들기### Packages\n",
    "import cv2\n",
    "import numpy as np\n",
    "import easygui"
   ]
  },
  {
   "cell_type": "code",
   "execution_count": 8,
   "metadata": {},
   "outputs": [],
   "source": [
    "### 영상파일 선택\n",
    "img_file = easygui.fileopenbox()\n",
    "\n",
    "### 영상 읽기\n",
    "img_raw = cv2.imread(img_file)\n",
    "\n"
   ]
  },
  {
   "cell_type": "code",
   "execution_count": 9,
   "metadata": {},
   "outputs": [],
   "source": [
    "### 영상 출력 - Display an image in an Open window\n",
    "win_name = 'Display window'\n",
    "img_out = img_raw.copy()"
   ]
  },
  {
   "cell_type": "code",
   "execution_count": 10,
   "metadata": {},
   "outputs": [],
   "source": [
    "### 영상 처리\n",
    "while True:\n",
    "    ### 키보드 입력\n",
    "    k = cv2.waitKey(0)\n",
    "\n",
    "    ### 원본 영상\n",
    "    if k == ord(\"o\"):\n",
    "        img_out = img_raw.copy()\n",
    "    ### color 영상을 Grayscale 영상으로 변환\n",
    "    if k == ord('g'):\n",
    "        img_out = cv2.cvtColor(img_raw, cv2.COLOR_BGR2GRAY)\n",
    "    ### 반전\n",
    "    if k == ord('r'):\n",
    "        img_out = cv2.convertScaleAbs(img_raw, alpha = -1, beta = 255)\n",
    "    ### 샤프닝 필터\n",
    "    if k == ord('1'):\n",
    "        mask = np.array([[0, -1, 0], [-1, 5, -1], [0, -1, 0]])\n",
    "        img_out = cv2.filter2D(img_raw, -1, mask)\n",
    "    ### 영상 출력\n",
    "    cv2.imshow(win_name, img_out)\n",
    "    ### 영상 저장\n",
    "    if k == ord('s'):\n",
    "        img_out_name = easygui.filesavebox('파일 이름 입력')\n",
    "        cv2.imwrite(img_out_name, img_out)\n",
    "    ### 종료\n",
    "    if k == ord('q'):\n",
    "        cv2.destroyAllWindows()\n",
    "        break"
   ]
  }
 ],
 "metadata": {
  "kernelspec": {
   "display_name": "Python 3",
   "language": "python",
   "name": "python3"
  },
  "language_info": {
   "codemirror_mode": {
    "name": "ipython",
    "version": 3
   },
   "file_extension": ".py",
   "mimetype": "text/x-python",
   "name": "python",
   "nbconvert_exporter": "python",
   "pygments_lexer": "ipython3",
   "version": "3.11.2"
  },
  "orig_nbformat": 4
 },
 "nbformat": 4,
 "nbformat_minor": 2
}
