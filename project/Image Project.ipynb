{
 "cells": [
  {
   "cell_type": "code",
   "execution_count": 4,
   "metadata": {},
   "outputs": [],
   "source": [
    "import cv2\n",
    "import easygui\n",
    "import dlib\n",
    "\n",
    "isDragging = False  # 마우스 드래그 상태를 나타내는 플래그\n",
    "x0, y0, w, h = -1, -1, -1, -1  # 드래그 영역 좌표 및 크기\n",
    "red = (0, 0, 255)  # 드래그 색상  (빨간색)\n",
    "k = cv2.waitKey(1) ### 키보드 입력\n",
    "\n",
    "def onMouse(event, x, y, flags, param, size=9):\n",
    "    global isDragging, x0, y0, img, k\n",
    "    if event == cv2.EVENT_LBUTTONDOWN:  # 마우스 왼쪽 버튼이 눌렸을 때\n",
    "        isDragging = True\n",
    "        x0 = x  # 시작 x 좌표 저장\n",
    "        y0 = y  # 시작 y 좌표 저장\n",
    "    elif event == cv2.EVENT_MOUSEMOVE:  # 마우스가 움직였을 때\n",
    "        if isDragging:\n",
    "            img_draw = img.copy()\n",
    "            cv2.rectangle(img_draw, (x0, y0), (x, y), red, 2)  # 드래그 영역 표시\n",
    "            cv2.imshow('img', img_draw)\n",
    "    elif event == cv2.EVENT_LBUTTONUP:  # 마우스 왼쪽 버튼이 놓였을 때\n",
    "        if isDragging:\n",
    "            isDragging = False\n",
    "            w = x - x0  # 드래그 영역 가로 크기\n",
    "            h = y - y0  # 드래그 영역 세로 크기\n",
    "            if w > 0 and h > 0:  # 올바른 크기의 드래그 영역인 경우\n",
    "                img_draw = img.copy()\n",
    "                cv2.rectangle(img_draw, (x0, y0), (x, y), red, 2)  # 선택된 영역 표시\n",
    "                cv2.imshow('img', img_draw)\n",
    "                roi = img[y0:y0+h, x0:x0+w]  # 선택된 영역\n",
    "                # 모자이크 적용\n",
    "                img_small = cv2.resize(img[y0:y0+h, x0:x0+w], (size, size))  # 모자이크 크기로 축소\n",
    "                img[y0:y0+h, x0:x0+w] = cv2.resize(img_small, (w, h), interpolation=cv2.INTER_AREA)  # 원본 크기로 확대하여 모자이크 적용        \n",
    "            else:\n",
    "                cv2.imshow('img', img)\n",
    "                print('왼쪽 상단 부터 드래그하세요.')\n",
    "### 모자이크 처리 함수\n",
    "def fn_mosaic (img, rect, size = 9) :\n",
    "    x1, y1, x2, y2 = rect\n",
    "    w = x2 - x1\n",
    "    h = y2 - y1\n",
    "    img_small = cv2.resize(img[y1:y2, x1:x2], (size, size))\n",
    "    img[y1:y2, x1:x2] = cv2.resize(img_small, (w, h), \n",
    "                                   interpolation = cv2.INTER_AREA)\n",
    "    return img\n",
    "                \n",
    "        "
   ]
  },
  {
   "cell_type": "code",
   "execution_count": 5,
   "metadata": {},
   "outputs": [
    {
     "ename": "NameError",
     "evalue": "name 'original_img' is not defined",
     "output_type": "error",
     "traceback": [
      "\u001b[1;31m---------------------------------------------------------------------------\u001b[0m",
      "\u001b[1;31mNameError\u001b[0m                                 Traceback (most recent call last)",
      "\u001b[1;32mc:\\Users\\kr937\\Desktop\\drive\\2023\\Image Process\\project\\Image Project.ipynb Cell 2\u001b[0m in \u001b[0;36m<cell line: 4>\u001b[1;34m()\u001b[0m\n\u001b[0;32m      <a href='vscode-notebook-cell:/c%3A/Users/kr937/Desktop/drive/2023/Image%20Process/project/Image%20Project.ipynb#X11sZmlsZQ%3D%3D?line=1'>2</a>\u001b[0m detector_hog \u001b[39m=\u001b[39m dlib\u001b[39m.\u001b[39mget_frontal_face_detector()\n\u001b[0;32m      <a href='vscode-notebook-cell:/c%3A/Users/kr937/Desktop/drive/2023/Image%20Process/project/Image%20Project.ipynb#X11sZmlsZQ%3D%3D?line=2'>3</a>\u001b[0m \u001b[39m### 얼굴 검출 - RGB 영상 사용\u001b[39;00m\n\u001b[1;32m----> <a href='vscode-notebook-cell:/c%3A/Users/kr937/Desktop/drive/2023/Image%20Process/project/Image%20Project.ipynb#X11sZmlsZQ%3D%3D?line=3'>4</a>\u001b[0m img_rgb \u001b[39m=\u001b[39m cv2\u001b[39m.\u001b[39mcvtColor(original_img, cv2\u001b[39m.\u001b[39mCOLOR_BGR2RGB)\n\u001b[0;32m      <a href='vscode-notebook-cell:/c%3A/Users/kr937/Desktop/drive/2023/Image%20Process/project/Image%20Project.ipynb#X11sZmlsZQ%3D%3D?line=4'>5</a>\u001b[0m dlib_rects \u001b[39m=\u001b[39m detector_hog(img_rgb, \u001b[39m1\u001b[39m)\n",
      "\u001b[1;31mNameError\u001b[0m: name 'original_img' is not defined"
     ]
    }
   ],
   "source": [
    "### 얼굴 검출기 - HOG\n",
    "detector_hog = dlib.get_frontal_face_detector()\n",
    "### 얼굴 검출 - RGB 영상 사용\n",
    "img_rgb = cv2.cvtColor(original_img, cv2.COLOR_BGR2RGB)\n",
    "dlib_rects = detector_hog(img_rgb, 1)"
   ]
  },
  {
   "cell_type": "code",
   "execution_count": 12,
   "metadata": {},
   "outputs": [],
   "source": [
    "os.chdir('c:\\\\Users\\\\kr937\\\\Desktop\\\\drive\\\\2023\\\\Image Process\\\\')"
   ]
  },
  {
   "cell_type": "code",
   "execution_count": 13,
   "metadata": {},
   "outputs": [
    {
     "data": {
      "text/plain": [
       "'c:\\\\Users\\\\kr937\\\\Desktop\\\\drive\\\\2023\\\\Image Process'"
      ]
     },
     "execution_count": 13,
     "metadata": {},
     "output_type": "execute_result"
    }
   ],
   "source": [
    "os.getcwd()"
   ]
  },
  {
   "cell_type": "code",
   "execution_count": 10,
   "metadata": {},
   "outputs": [],
   "source": [
    "import os"
   ]
  },
  {
   "cell_type": "code",
   "execution_count": 20,
   "metadata": {},
   "outputs": [
    {
     "name": "stdout",
     "output_type": "stream",
     "text": [
      "왼쪽 상단 부터 드래그하세요.\n",
      "왼쪽 상단 부터 드래그하세요.\n",
      "사진이 저장 완료 되었습니다.\n",
      "왼쪽 상단 부터 드래그하세요.\n"
     ]
    }
   ],
   "source": [
    "original_img = easygui.fileopenbox() #cv2.imread(r'C:\\Users\\kr937\\Desktop\\drive\\2023\\Image Process\\penya.JPG')\n",
    "original_img = cv2.imread(original_img)\n",
    "size = 0.2\n",
    "img = cv2.resize(original_img, dsize=(0, 0), fx=size, fy=size, interpolation=cv2.INTER_AREA)\n",
    "### 얼굴 검출기 - HOG\n",
    "detector_hog = dlib.get_frontal_face_detector()\n",
    "### 얼굴 검출 - RGB 영상 사용\n",
    "img_rgb = cv2.cvtColor(original_img, cv2.COLOR_BGR2RGB)\n",
    "dlib_rects = detector_hog(img_rgb, 1)\n",
    "cv2.namedWindow('img')\n",
    "cv2.setMouseCallback('img', onMouse)\n",
    "cv2.imshow('img', img)\n",
    "cv2.waitKey()\n",
    "while True:\n",
    "    k = cv2.waitKey(1)\n",
    "    mosiac_img = original_img.copy()\n",
    "    if k == ord('s'):  # 키보드 's'를 눌렀을 때 모자이크된 사진 저장 \n",
    "        img_result = easygui.filesavebox('파일 이름 입력')\n",
    "        cv2.imwrite(img_result, img)  \n",
    "        print('사진이 저장 완료 되었습니다.')\n",
    "        \n",
    "    elif k == ord('f'):\n",
    "        for dlib_rect in dlib_rects:\n",
    "            ### 이미지 삽입\n",
    "            x1 = dlib_rect.left()\n",
    "            y1 = dlib_rect.top()\n",
    "            x2 = dlib_rect.right()\n",
    "            y2 = dlib_rect.bottom()\n",
    "            img_out = fn_mosaic(mosiac_img, (x1, y1, x2, y2))\n",
    "        img = cv2.resize(img_out, dsize=(0, 0), fx=size, fy=size, interpolation=cv2.INTER_AREA)\n",
    "        cv2.imshow('img', img)\n",
    "    \n",
    "    elif k == ord('b'):  # 키보드 'b'를 눌렀을 때 원래의 이미지로 돌아감\n",
    "        img = cv2.resize(original_img, dsize=(0, 0), fx=size, fy=size, interpolation=cv2.INTER_AREA)\n",
    "        cv2.imshow('img', img)\n",
    "            \n",
    "    elif k == 27:  # ESC 키를 눌렀을 때 종료\n",
    "        break\n",
    "cv2.destroyAllWindows()\n"
   ]
  },
  {
   "cell_type": "code",
   "execution_count": null,
   "metadata": {},
   "outputs": [],
   "source": []
  }
 ],
 "metadata": {
  "kernelspec": {
   "display_name": "Python 3 (ipykernel)",
   "language": "python",
   "name": "python3"
  },
  "orig_nbformat": 4
 },
 "nbformat": 4,
 "nbformat_minor": 2
}
