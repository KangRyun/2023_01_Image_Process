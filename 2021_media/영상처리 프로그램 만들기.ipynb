{
 "cells": [
  {
   "cell_type": "code",
   "execution_count": 1,
   "id": "9f83087e",
   "metadata": {},
   "outputs": [],
   "source": [
    "### Package\n",
    "import cv2\n",
    "import numpy as np\n",
    "import easygui"
   ]
  },
  {
   "cell_type": "code",
   "execution_count": 2,
   "id": "7445da4e",
   "metadata": {},
   "outputs": [],
   "source": [
    "### 영상파일 선택\n",
    "img_file = easygui.fileopenbox()"
   ]
  },
  {
   "cell_type": "code",
   "execution_count": 3,
   "id": "14a0d009",
   "metadata": {},
   "outputs": [
    {
     "data": {
      "text/plain": [
       "(512, 512, 3)"
      ]
     },
     "execution_count": 3,
     "metadata": {},
     "output_type": "execute_result"
    }
   ],
   "source": [
    "### 영상 읽기\n",
    "img_raw = cv2.imread(img_file)\n",
    "\n",
    "img_raw.shape"
   ]
  },
  {
   "cell_type": "code",
   "execution_count": 4,
   "id": "3e84a44d",
   "metadata": {},
   "outputs": [],
   "source": [
    "### Display an image in an OpenCV window\n",
    "cv2.imshow(\"Display window\", img_raw)\n",
    "cv2.waitKey(0)\n",
    "cv2.destroyAllWindows()"
   ]
  },
  {
   "cell_type": "code",
   "execution_count": 14,
   "id": "9f98a631",
   "metadata": {},
   "outputs": [],
   "source": [
    "### 영상파일 선택\n",
    "# img_file = easygui.fileopenbox()\n",
    "\n",
    "### 영상 읽기\n",
    "img_raw = cv2.imread(img_file)\n",
    "\n",
    "### 영상 출력 - Display an image in an OpenCV window\n",
    "win_name = \"Display window\"\n",
    "img_out = img_raw.copy()\n",
    "cv2.imshow(win_name, img_out)\n",
    "# cv2.waitKey(0)\n",
    "# cv2.destroyAllWindows()\n",
    "\n",
    "### 영상 처리\n",
    "while True:\n",
    "    ### 키보드 입력\n",
    "    k = cv2.waitKey(0)\n",
    "    \n",
    "    ### 원본 영상\n",
    "    if k == ord(\"o\"):\n",
    "        img_out = img_raw\n",
    "    \n",
    "    ### color 영상을 Grayscale 영상으로 변환\n",
    "    if k == ord(\"g\"):\n",
    "        img_out = cv2.cvtColor(img_raw, cv2.COLOR_BGR2GRAY)\n",
    "    \n",
    "    ### 반전\n",
    "    if k == ord(\"r\"):\n",
    "        img_out = cv2.convertScaleAbs(img_raw, alpha = -1, beta = 255)\n",
    "    \n",
    "    ### 샤프닝 필터\n",
    "    if k == ord(\"1\"):\n",
    "        mask = np.array([[0, -1, 0], [-1, 5, -1], [0, -1, 0]])\n",
    "        img_out = cv2.filter2D(img_raw, -1, mask)\n",
    "    \n",
    "    ### 영상 출력\n",
    "    cv2.imshow(win_name, img_out)\n",
    "    \n",
    "    ### 영상 저장\n",
    "    if k == ord(\"s\"):\n",
    "        img_out_name = easygui.filesavebox(\"파일 이름 입력\")\n",
    "        cv2.imwrite(img_out_name, img_out)\n",
    "\n",
    "    ### 종료\n",
    "    if k == ord(\"q\"):\n",
    "        cv2.destroyAllWindows()\n",
    "        break"
   ]
  }
 ],
 "metadata": {
  "kernelspec": {
   "display_name": "Python 3",
   "language": "python",
   "name": "python3"
  },
  "language_info": {
   "codemirror_mode": {
    "name": "ipython",
    "version": 3
   },
   "file_extension": ".py",
   "mimetype": "text/x-python",
   "name": "python",
   "nbconvert_exporter": "python",
   "pygments_lexer": "ipython3",
   "version": "3.8.8"
  }
 },
 "nbformat": 4,
 "nbformat_minor": 5
}
