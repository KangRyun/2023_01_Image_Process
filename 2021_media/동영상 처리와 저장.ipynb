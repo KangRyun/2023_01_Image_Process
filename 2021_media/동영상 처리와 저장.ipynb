{
 "cells": [
  {
   "cell_type": "markdown",
   "id": "4c5110e2",
   "metadata": {},
   "source": [
    "# 동영상 처리와 저장"
   ]
  },
  {
   "cell_type": "markdown",
   "id": "d8948ecf",
   "metadata": {},
   "source": [
    "# ▶ 동영상\n",
    "- 컴퓨터 모니터의 화상이 텔레비전의 화상처럼 움직이는 것\n",
    "- 한장 한장의 사진(frame)을 연속적으로 출력하는 방식\n",
    "    - 움직이는 말 (The Horse Motion)\n",
    "        - 영화라 부르는 활동사진의 기원 중 하나로서, 영화사에 중대한 기여를 한 것으로 평가\n",
    "    - 월드 디즈니 애니메이션 스튜디오 오프닝\n",
    "        - https://www.youtube.com/watch?v=ZZxkxe9Jtt4\n",
    "    - 스톱모션"
   ]
  },
  {
   "cell_type": "markdown",
   "id": "32633430",
   "metadata": {},
   "source": [
    "# ▶ 웹캠(webcam)\n",
    "- Getting Started with Videos\n",
    "    - https://docs.opencv.org/4.x/dd/d43/tutorial_py_video_display.html"
   ]
  },
  {
   "cell_type": "code",
   "execution_count": 1,
   "id": "f78d09d7",
   "metadata": {},
   "outputs": [],
   "source": [
    "### Package\n",
    "import cv2\n",
    "import numpy as np\n",
    "import os\n",
    "import easygui\n",
    "import time"
   ]
  },
  {
   "cell_type": "markdown",
   "id": "24cae8c7",
   "metadata": {},
   "source": [
    "## ■ 기본 출력"
   ]
  },
  {
   "cell_type": "code",
   "execution_count": 2,
   "id": "a052107c",
   "metadata": {},
   "outputs": [],
   "source": [
    "### 카메라 연결\n",
    "cap = cv2.VideoCapture(0)\n",
    "\n",
    "### 동영상 출력\n",
    "while cv2.waitKey(1) < 0:\n",
    "    # Capture frame-by-frame\n",
    "    ret, frame = cap.read()\n",
    "    if ret:\n",
    "        ### Frame 출력\n",
    "        cv2.imshow(\"VideoFrame\", frame)\n",
    "    else:\n",
    "        print(\"Can't receive frame. Exiting...\")\n",
    "        break\n",
    "\n",
    "### When everything done, release the capture\n",
    "cap.release()\n",
    "cv2.destroyAllWindows()"
   ]
  },
  {
   "cell_type": "markdown",
   "id": "e80253d5",
   "metadata": {},
   "source": [
    "## ■ 동영상 처리\n",
    "- Grayscale"
   ]
  },
  {
   "cell_type": "code",
   "execution_count": 3,
   "id": "464c146c",
   "metadata": {},
   "outputs": [],
   "source": [
    "### 카메라 연결\n",
    "cap = cv2.VideoCapture(0)\n",
    "\n",
    "### 동영상 출력\n",
    "while cv2.waitKey(1) < 0:\n",
    "    # Capture frame-by-frame\n",
    "    ret, frame = cap.read()\n",
    "    if ret:\n",
    "        ### Grayscale\n",
    "        frame = cv2.cvtColor(frame, cv2.COLOR_BGR2GRAY)\n",
    "        \n",
    "        ### Frame 출력\n",
    "        cv2.imshow(\"VideoFrame\", frame)\n",
    "    else:\n",
    "        print(\"Can't receive frame. Exiting...\")\n",
    "        break\n",
    "\n",
    "### When everything done, release the capture\n",
    "cap.release()\n",
    "cv2.destroyAllWindows()"
   ]
  },
  {
   "cell_type": "markdown",
   "id": "f447b9e9",
   "metadata": {},
   "source": [
    "- 감마보정"
   ]
  },
  {
   "cell_type": "code",
   "execution_count": 4,
   "id": "f836ff65",
   "metadata": {},
   "outputs": [],
   "source": [
    "### 감마보정 함수\n",
    "def fn_gamma_correction(img, gamma=1):\n",
    "    lookUpTable = np.empty((1, 256), np.uint8)\n",
    "    for i in range(256):\n",
    "        lookUpTable[0, i] = np.clip(pow (i / 255.0, gamma) * 255.0, 0, 255)\n",
    "    return cv2.LUT(img, lookUpTable)"
   ]
  },
  {
   "cell_type": "code",
   "execution_count": 5,
   "id": "36321a96",
   "metadata": {},
   "outputs": [],
   "source": [
    "### 카메라 연결\n",
    "cap = cv2.VideoCapture(0)\n",
    "\n",
    "### 동영상 출력\n",
    "while cv2.waitKey(1) < 0:\n",
    "    # Capture frame-by-frame\n",
    "    ret, frame = cap.read()\n",
    "    if ret:\n",
    "        ### 감마보정\n",
    "        frame = fn_gamma_correction(frame, 0.67)\n",
    "        \n",
    "        ### Frame 출력\n",
    "        cv2.imshow(\"VideoFrame\", frame)\n",
    "    else:\n",
    "        print(\"Can't receive frame. Exiting...\")\n",
    "        break\n",
    "\n",
    "### When everything done, release the capture\n",
    "cap.release()\n",
    "cv2.destroyAllWindows()"
   ]
  },
  {
   "cell_type": "markdown",
   "id": "65705841",
   "metadata": {},
   "source": [
    "## ■ 동영상 처리 응용\n",
    "- s: 저장\n",
    "- q: 종료"
   ]
  },
  {
   "cell_type": "code",
   "execution_count": 6,
   "id": "d367cc45",
   "metadata": {},
   "outputs": [],
   "source": [
    "### Packages\n",
    "import easygui"
   ]
  },
  {
   "cell_type": "code",
   "execution_count": 7,
   "id": "6ae9c137",
   "metadata": {},
   "outputs": [],
   "source": [
    "### 카메라 연결\n",
    "cap = cv2.VideoCapture(0)\n",
    "\n",
    "### 동영상 출력\n",
    "while True:\n",
    "    # Capture frame-by-frame\n",
    "    ret, frame = cap.read()\n",
    "    if ret:\n",
    "        ### 키보드 입력\n",
    "        k = cv2.waitKey(1)\n",
    "        \n",
    "        ### 영상 저장\n",
    "        if k == ord(\"s\"):\n",
    "            img_out_name = easygui.filesavebox(\"파일 이름 입력\")\n",
    "            cv2.imwrite(img_out_name, frame)\n",
    "        \n",
    "        ### 종료\n",
    "        if k == ord(\"q\"):\n",
    "            break\n",
    "        \n",
    "        ### Frame 출력\n",
    "        cv2.imshow(\"VideoFrame\", frame)\n",
    "    else:\n",
    "        print(\"Can't receive frame. Exiting...\")\n",
    "        break\n",
    "\n",
    "### When everything done, release the capture\n",
    "cap.release()\n",
    "cv2.destroyAllWindows()"
   ]
  },
  {
   "cell_type": "markdown",
   "id": "df9884d2",
   "metadata": {},
   "source": [
    "# ▶ 동영상 파일\n",
    "- 한남대학교 홍보영상\n",
    "    - http://www.hannam.ac.kr/kor/about/about_01_6.html\n",
    "    - 2022 한남대학교 홍보영상 (2분 20초) > [DOWN] > 파일명 수정(영문+숫자): 2022 hnu.mp4\n",
    "\n",
    "## ■ 기본 출력"
   ]
  },
  {
   "cell_type": "code",
   "execution_count": 4,
   "id": "5aa17a6b",
   "metadata": {},
   "outputs": [],
   "source": [
    "### 파일 연결\n",
    "cap = cv2.VideoCapture(r'C:\\Users\\sse88\\Downloads\\2022 hnu.mp4')\n",
    "\n",
    "### 동영상 출력\n",
    "while cv2.waitKey(1) < 0:\n",
    "    ### Capture frame-by-frame\n",
    "    ret, frame = cap.read()\n",
    "    if ret:\n",
    "        \n",
    "        ### 크기 조절 - 50% 축소\n",
    "        frame = cv2.resize(frame, dsize=(0, 0), fx=0.5, fy=0.5, interpolation=cv2.INTER_AREA)\n",
    "        \n",
    "        ### Frame 출력\n",
    "        cv2.imshow(\"VideoFrame\", frame)\n",
    "    else:\n",
    "        print(\"Can't receive frame, Exiting...\")\n",
    "        break\n",
    "\n",
    "### When everything done, release the capture\n",
    "cap.release()\n",
    "cv2.destroyAllWindows()"
   ]
  },
  {
   "cell_type": "markdown",
   "id": "1952a343",
   "metadata": {},
   "source": [
    "## ■ 동영상 처리 응용\n",
    "- s: 저장\n",
    "- q: 종료"
   ]
  },
  {
   "cell_type": "code",
   "execution_count": 9,
   "id": "058eef24",
   "metadata": {},
   "outputs": [],
   "source": [
    "### Package\n",
    "import time"
   ]
  },
  {
   "cell_type": "code",
   "execution_count": 5,
   "id": "5fa43391",
   "metadata": {},
   "outputs": [],
   "source": [
    "### 파일 연결\n",
    "cap = cv2.VideoCapture(r'C:\\Users\\sse88\\Downloads\\2022 hnu.mp4')\n",
    "\n",
    "### 동영상 출력\n",
    "while True:\n",
    "    ### 반복 재생 설정\n",
    "    if True & (cap.get(cv2.CAP_PROP_POS_FRAMES) == cap.get(cv2.CAP_PROP_FRAME_COUNT)):\n",
    "        cap.set(cv2.CAP_PROP_POS_FRAMES, 0)\n",
    "\n",
    "    ### 출력 속도 조절\n",
    "    time.sleep(0.1)\n",
    "    \n",
    "    ### Capture frame-by-frame\n",
    "    ret, frame = cap.read()\n",
    "    if ret:\n",
    "        ### 키보드 입력\n",
    "        k = cv2.waitKey(1)\n",
    "\n",
    "        ### 크기 조절 - 50% 축소\n",
    "        frame = cv2.resize(frame, dsize=(0, 0), fx=0.5, fy=0.5, interpolation=cv2.INTER_AREA)\n",
    "\n",
    "        ### 영상 저장\n",
    "        if k == ord(\"s\"):\n",
    "            img_out_name = r'C:\\Users\\sse88\\Downloads\\Capture.png'\n",
    "            cv2.imwrite(img_out_name, frame)\n",
    "\n",
    "        ### 종료\n",
    "        if k == ord(\"q\"):\n",
    "            break\n",
    "\n",
    "        ### Frame 출력\n",
    "        cv2.imshow(\"VideoFrame\", frame)\n",
    "\n",
    "    else:\n",
    "        print(\"Can't receive frame, Exiting...\")\n",
    "        break\n",
    "\n",
    "### When everything done, release the capture\n",
    "cap.release()\n",
    "cv2.destroyAllWindows()"
   ]
  },
  {
   "cell_type": "markdown",
   "id": "d565bdf2",
   "metadata": {},
   "source": [
    "# ▶ 동영상 저장\n",
    "- Fourcc(four-character code; 4-문자코드)\n",
    "    - 동영상 파일의 코덱 정의 - https://www.fourcc.org/codecs.php\n",
    "        - In Fedofa: DIVX, XVID, MJPG, X264, WMV1, WMV2\n",
    "            - XVID is more preferable. MJPG results in high size video. X264 gives very small size video\n",
    "        - In Windows: DIVX\n",
    "        - In OSX: MJPG (.mp4), DIVX (.avi), X264 (.mkv)"
   ]
  },
  {
   "cell_type": "code",
   "execution_count": 6,
   "id": "05dedc69",
   "metadata": {},
   "outputs": [],
   "source": [
    "### 파일 연결\n",
    "cap = cv2.VideoCapture(r'C:\\Users\\sse88\\Downloads\\2022 hnu.mp4')\n",
    "\n",
    "### 코덱\n",
    "fourcc = cv2.VideoWriter_fourcc(*'FMP4')\n",
    "\n",
    "### frame width, height, fps(초당 frame 수)\n",
    "width = cap.get(cv2.CAP_PROP_FRAME_WIDTH) # cap.get(3)\n",
    "height = cap.get(cv2.CAP_PROP_FRAME_HEIGHT) # cap.get(4)\n",
    "fps = cap.get(cv2.CAP_PROP_FPS) # cap.get(5)\n",
    "\n",
    "### 영상 저장 설정\n",
    "out = cv2.VideoWriter(r'C:\\Users\\sse88\\Downloads\\2022 hnu (2).mp4', fourcc, fps, (int(width/2), int(height/2)))\n",
    "\n",
    "### 동영상 출력\n",
    "while cv2.waitKey(1) < 0:\n",
    "    ### Capture frame-by-frame\n",
    "    ret, frame = cap.read()\n",
    "    if ret:\n",
    "        \n",
    "        ### 크기 조절 - 50% 축소\n",
    "        frame = cv2.resize(frame, dsize=(0, 0), fx=0.5, fy=0.5, interpolation=cv2.INTER_AREA)\n",
    "        \n",
    "        ### Frame 출력\n",
    "        cv2.imshow(\"VideoFrame\", frame)\n",
    "        \n",
    "        ### Frame 저장\n",
    "        out.write(frame)\n",
    "    else:\n",
    "        print(\"Can't receive frame, Exiting...\")\n",
    "\n",
    "### release the out\n",
    "out.release()\n",
    "\n",
    "### When everything done, release the capture\n",
    "cap.release()\n",
    "cv2.destroyAllWindows()"
   ]
  }
 ],
 "metadata": {
  "kernelspec": {
   "display_name": "Python 3",
   "language": "python",
   "name": "python3"
  },
  "language_info": {
   "codemirror_mode": {
    "name": "ipython",
    "version": 3
   },
   "file_extension": ".py",
   "mimetype": "text/x-python",
   "name": "python",
   "nbconvert_exporter": "python",
   "pygments_lexer": "ipython3",
   "version": "3.8.8"
  }
 },
 "nbformat": 4,
 "nbformat_minor": 5
}
